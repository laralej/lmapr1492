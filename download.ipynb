{
 "cells": [
  {
   "cell_type": "markdown",
   "metadata": {},
   "source": [
    "# Télécharger un fichier cif\n",
    "\n",
    "Ce code a pour but d'introduire l'analyse du cristal MgI2 (mp-23205) à partir des données fournies sur site du Materials Project [1].\n",
    "\n",
    "Le fichier exploité ci-dessous est le fichier CIF du MgI2 [2] téléchargé sur le site du Materials Project."
   ]
  },
  {
   "cell_type": "markdown",
   "metadata": {},
   "source": [
    "Pour télécharger le fichier CIF du MgI2 sur le Materials Project, il nous faut les données suivantes :\n",
    "* API_KEY : ktopgq8J6C3OwUSa\n",
    "* material_id : mp-23205"
   ]
  },
  {
   "cell_type": "code",
   "execution_count": null,
   "metadata": {},
   "outputs": [],
   "source": [
    "from pymatgen.ext.matproj import MPRester\n",
    "from pymatgen.io.cif import CifWriter\n",
    "\n",
    "#A class to conveniently interface with the Materials Project REST interface. \n",
    "#The recommended way to use MPRester is with the “with” context manager to ensure that sessions are properly closed after usage\n",
    "with MPRester(\"ktopgq8J6C3OwUSa\") as m:\n",
    "    #Get a Structure corresponding to a material_id.\n",
    "    structure = m.get_structure_by_material_id(\"mp-23205\")\n",
    "    \n",
    "    #A wrapper around CifFile to write CIF files from pymatgen structures.\n",
    "    w = CifWriter(structure)\n",
    "    #Write the cif file.\n",
    "    w.write_file('mp23205.cif')"
   ]
  },
  {
   "cell_type": "markdown",
   "metadata": {},
   "source": [
    "# Bibliographie\n",
    "[1] *Materials project mp-23205*, URL: https://materialsproject.org/materials/mp-23205/\n",
    "\n",
    "[2] *MgI2_mp-23205_symmetrized.cif*, URL: https://github.com/laralej/lmapr1492/blob/master/MgI2_mp-23205_symmetrized.cif"
   ]
  },
  {
   "cell_type": "code",
   "execution_count": null,
   "metadata": {},
   "outputs": [],
   "source": []
  }
 ],
 "metadata": {
  "kernelspec": {
   "display_name": "Python 3",
   "language": "python",
   "name": "python3"
  },
  "language_info": {
   "codemirror_mode": {
    "name": "ipython",
    "version": 3
   },
   "file_extension": ".py",
   "mimetype": "text/x-python",
   "name": "python",
   "nbconvert_exporter": "python",
   "pygments_lexer": "ipython3",
   "version": "3.6.8"
  }
 },
 "nbformat": 4,
 "nbformat_minor": 2
}
