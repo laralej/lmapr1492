{
 "cells": [
  {
   "cell_type": "markdown",
   "metadata": {},
   "source": [
    "# Structures des bandes électroniques\n",
    "Ce code a pour but d'analyser les **propriétés électroniques** du cristal **MgI2** (mp-23205) sur base des données du site Materials Project [1].\n",
    "\n",
    "Les images présentées dans ce code sont issues du fichier CIF et du site Materials Project.\n",
    "\n",
    "La reflexion théorique de ce code est inspirée du cours LMAPR1492-Physique des matériaux donné par le professeur G.M. Riganese [2]."
   ]
  },
  {
   "cell_type": "code",
   "execution_count": 1,
   "metadata": {},
   "outputs": [],
   "source": [
    "from pymatgen.electronic_structure.plotter import BSPlotter\n",
    "from pymatgen.ext.matproj import MPRester\n",
    "with MPRester(\"ktopgq8J6C3OwUSa\") as m:\n",
    "    \n",
    "    #Get a BandStructure corresponding to a material_id.\n",
    "    #Returns : A BandStructure object.\n",
    "    bstructure = m.get_bandstructure_by_material_id(\"mp-23205\")\n",
    "    \n",
    "#Class to plot or get data to facilitate the plot of band structure objects.\n",
    "bs = BSPlotter(bstructure)\n",
    "\n",
    "#Get the data nicely formatted for a plot\n",
    "#Returns : A dictionnary \n",
    "bsp = bs.bs_plot_data()\n"
   ]
  },
  {
   "cell_type": "markdown",
   "metadata": {},
   "source": [
    "# 0. Zone de Brillouin\n",
    "\"Pour tout vecteur d'onde **k** il est possible de ramener l'énergie propre associée à une énergie d'un point de la première zone de Brillouin\"\n",
    "\n",
    "Sur le shéma ci-dessous, on peut voir la fome de la suface de Fermi dans la première zone de Brillouin (en noir).\n",
    "\n",
    "Dans le suite de ce code, nous nous attarderons plus en détails sur les points critiques (en bleu) illustrés ci-dessous."
   ]
  },
  {
   "cell_type": "code",
   "execution_count": 2,
   "metadata": {},
   "outputs": [
    {
     "data": {
      "text/plain": [
       "<Figure size 640x480 with 1 Axes>"
      ]
     },
     "metadata": {},
     "output_type": "display_data"
    }
   ],
   "source": [
    "import numpy as np\n",
    "import matplotlib.pyplot as plt    \n",
    "#plot the Brillouin zone\n",
    "bs.plot_brillouin()"
   ]
  },
  {
   "cell_type": "markdown",
   "metadata": {},
   "source": [
    "# 1. Bande interdite\n",
    "\n",
    "La bande interdite est la bande de niveaux d'énergie qui ne peuvent pas être occupés par les électrons. \n",
    "\n",
    "Cette dernière est caluclée dans le code suivant : "
   ]
  },
  {
   "cell_type": "code",
   "execution_count": 3,
   "metadata": {},
   "outputs": [
    {
     "name": "stdout",
     "output_type": "stream",
     "text": [
      "{'direct': False, 'energy': 3.6162000000000005, 'transition': '\\\\Gamma-(0.500,0.000,0.444)'}\n"
     ]
    }
   ],
   "source": [
    "# band_gap: A string indicating the band gap and its nature (empty if it’s a metal).\n",
    "bg = bstructure.get_band_gap()\n",
    "print(bg)"
   ]
  },
  {
   "cell_type": "markdown",
   "metadata": {},
   "source": [
    "Pour le MgI2, La bande interdite \n",
    "* est **indirecte** : le maximum de la dernière bande de valence n'est pas aligné avec le minimum de la première bande de conduction. \n",
    "* vaut **3,6162 eV** : il s'agit d'un isolant électrique\n",
    "* k évolue selon la direction $\\Gamma$ - A|L de la zone de brillouin du cristal."
   ]
  },
  {
   "cell_type": "markdown",
   "metadata": {},
   "source": [
    "# 2. Dispertion\n",
    "Pour calculer le maximum (et le minimum) de dispersion, j'observe la valeur absolue de la pente la plus (et la moins) élevée pour chaque direction.\n",
    "\n",
    "La pente se calcule comme un rapport de l'énergie sur la distance.\n",
    "\n",
    "Les direction se traduisent dans le code par:\n",
    "0. $\\Gamma$ - M \n",
    "1. M - K \n",
    "2. K - $\\Gamma$ \n",
    "3. $\\Gamma$ - A\n",
    "4. A - L\n",
    "5. L - H\n",
    "6. A|L - M|K\n",
    "7. M|K - H\n",
    "8. H - $\\Gamma$\n"
   ]
  },
  {
   "cell_type": "markdown",
   "metadata": {},
   "source": [
    "## 2.1. Dans la dernière bande de valence"
   ]
  },
  {
   "cell_type": "code",
   "execution_count": 37,
   "metadata": {},
   "outputs": [
    {
     "name": "stdout",
     "output_type": "stream",
     "text": [
      "19\n",
      "9\n",
      "[7.004900000000001, 7.088600000000001, 7.2379, 7.390500000000001, 7.475200000000001, 7.3702000000000005, 7.2073, 7.196200000000001, 7.269, 7.317500000000001, 7.341700000000001, 7.346300000000001, 7.3544, 7.4443, 7.4984, 7.513400000000001, 7.508000000000001, 7.4992, 7.4955]\n",
      "[0.0, 0.0478758468708271, 0.0957516937416542, 0.1436275233771778, 0.1915033702480049, 0.23937921711883198, 0.2872550639896591, 0.3351308936251827, 0.38300674049600986, 0.43088258736683693, 0.47875843423766395, 0.5266342811084911, 0.5745101107440147, 0.6223859576148418, 0.6702618044856689, 0.718137651356496, 0.7660134809920196, 0.8138893278628467, 0.8617651747336738]\n"
     ]
    },
    {
     "ename": "IndexError",
     "evalue": "list index out of range",
     "output_type": "error",
     "traceback": [
      "\u001b[0;31m---------------------------------------------------------------------------\u001b[0m",
      "\u001b[0;31mIndexError\u001b[0m                                Traceback (most recent call last)",
      "\u001b[0;32m<ipython-input-37-23d0719e7810>\u001b[0m in \u001b[0;36m<module>\u001b[0;34m\u001b[0m\n\u001b[1;32m     14\u001b[0m \u001b[0mk0_g\u001b[0m \u001b[0;34m=\u001b[0m \u001b[0mbsp\u001b[0m\u001b[0;34m[\u001b[0m\u001b[0;34m\"distances\"\u001b[0m\u001b[0;34m]\u001b[0m\u001b[0;34m[\u001b[0m\u001b[0;36m0\u001b[0m\u001b[0;34m]\u001b[0m\u001b[0;34m\u001b[0m\u001b[0;34m\u001b[0m\u001b[0m\n\u001b[1;32m     15\u001b[0m \u001b[0mprint\u001b[0m \u001b[0;34m(\u001b[0m\u001b[0mk0_g\u001b[0m\u001b[0;34m)\u001b[0m\u001b[0;34m\u001b[0m\u001b[0;34m\u001b[0m\u001b[0m\n\u001b[0;32m---> 16\u001b[0;31m \u001b[0menergie0_d\u001b[0m \u001b[0;34m=\u001b[0m \u001b[0mbsp\u001b[0m\u001b[0;34m[\u001b[0m\u001b[0;34m\"energy\"\u001b[0m\u001b[0;34m]\u001b[0m\u001b[0;34m[\u001b[0m\u001b[0me\u001b[0m\u001b[0;34m-\u001b[0m\u001b[0;36m1\u001b[0m\u001b[0;34m]\u001b[0m\u001b[0;34m[\u001b[0m\u001b[0;34m'1'\u001b[0m\u001b[0;34m]\u001b[0m\u001b[0;34m[\u001b[0m\u001b[0;36m15\u001b[0m\u001b[0;34m]\u001b[0m\u001b[0;34m\u001b[0m\u001b[0;34m\u001b[0m\u001b[0m\n\u001b[0m\u001b[1;32m     17\u001b[0m \u001b[0mk0_d\u001b[0m \u001b[0;34m=\u001b[0m \u001b[0mbsp\u001b[0m\u001b[0;34m[\u001b[0m\u001b[0;34m\"distances\"\u001b[0m\u001b[0;34m]\u001b[0m\u001b[0;34m[\u001b[0m\u001b[0md\u001b[0m\u001b[0;34m-\u001b[0m\u001b[0;36m1\u001b[0m\u001b[0;34m]\u001b[0m\u001b[0;34m\u001b[0m\u001b[0;34m\u001b[0m\u001b[0m\n\u001b[1;32m     18\u001b[0m \u001b[0mpente0\u001b[0m \u001b[0;34m=\u001b[0m \u001b[0mnp\u001b[0m\u001b[0;34m.\u001b[0m\u001b[0mabs\u001b[0m\u001b[0;34m(\u001b[0m\u001b[0;34m(\u001b[0m\u001b[0menergie0_d\u001b[0m\u001b[0;34m-\u001b[0m\u001b[0menergie0_g\u001b[0m\u001b[0;34m)\u001b[0m\u001b[0;34m/\u001b[0m\u001b[0;34m(\u001b[0m\u001b[0mk0_d\u001b[0m\u001b[0;34m-\u001b[0m\u001b[0mk0_g\u001b[0m\u001b[0;34m)\u001b[0m\u001b[0;34m)\u001b[0m\u001b[0;34m\u001b[0m\u001b[0;34m\u001b[0m\u001b[0m\n",
      "\u001b[0;31mIndexError\u001b[0m: list index out of range"
     ]
    }
   ],
   "source": [
    "import numpy as np\n",
    "# vbm: A list of tuples (distance,energy) marking the vbms. The energies are shifted with respect to the fermi level is the option has been selected.\n",
    "# dernière bande de valence : 15\n",
    "\n",
    "# energy: A dict storing bands for spin up and spin down data [{Spin:[band_index][k_point_index]}] as a list (one element for each branch) of energy for each kpoint. \n",
    "#The data is stored by branch to facilitate the plotting. \n",
    "e = len(bsp[\"energy\"][0]['1'][15])\n",
    "print(e)\n",
    "d = len(bsp[\"distances\"])\n",
    "print(d)\n",
    "\n",
    "energie0_g = bsp[\"energy\"][0]['1'][15]\n",
    "print (energie0_g)\n",
    "k0_g = bsp[\"distances\"][0]\n",
    "print (k0_g)\n",
    "energie0_d = bsp[\"energy\"][e-1]['1'][15]\n",
    "k0_d = bsp[\"distances\"][d-1]\n",
    "pente0 = np.abs((energie0_d-energie0_g)/(k0_d-k0_g))\n",
    "print('pente pour la direction 0:' + str(pente0))"
   ]
  },
  {
   "cell_type": "code",
   "execution_count": 34,
   "metadata": {},
   "outputs": [
    {
     "name": "stdout",
     "output_type": "stream",
     "text": [
      "La pente maximale de la dernière bande de valence se situe entre les abscisses [3.622499933438404, 4.120040298075162]\n",
      " et entre les ordonnées [7.5601, 8.3591] et vaut en valeur absolue 1.6058998561520312\n",
      "La pente minimale de la dernière bande de valence se situe entre les abscisses [5.115120985344404, 5.521469517409459]\n",
      " et entre les ordonnées [0, 0] et vaut en valeur absolue 0.1589768263015609\n"
     ]
    }
   ],
   "source": [
    "# vbm: A list of tuples (distance,energy) marking the vbms. The energies are shifted with respect to the fermi level is the option has been selected.\n",
    "# dernière bande de valence : 15\n",
    "\n",
    "# energy: A dict storing bands for spin up and spin down data [{Spin:[band_index][k_point_index]}] as a list (one element for each branch) of energy for each kpoint. \n",
    "#The data is stored by branch to facilitate the plotting. \n",
    "\n",
    "k_g = 0 #Valeur du vecteur d'onde k à gauche\n",
    "energie_g = 0 #Valeur de l'énergie à gauche\n",
    "k_d = 0 #Valeur du vecteur d'onde k à droite\n",
    "energie_d = 0 #Valeur de l'énergie à droite\n",
    "pente_max = 0 #Valeur de la pente maximale\n",
    "pente_min = 100 #valeur de la pente minimale\n",
    "k_max  = [0,0] #Paire de valeurs de vecteur d'onde là où se situe la pente maximale\n",
    "energie_max = [0,0] #Paire de valeur d'énergie où se situe la pente maximale\n",
    "k_min = [0,0] #Paire de valeurs de vecteur d'onde là où se situe la pente minimale\n",
    "energie_min = [0,0] #Paire de valeur d'énergie où se situe la pente minimale\n",
    "\n",
    "#On commence à parcourir les valeurs d'abscisse et d'ordonée possibles. On se concentre sur une branche à la fois.\n",
    "\n",
    "for k, energie in zip(bsp[\"distances\"], bsp[\"energy\"]):\n",
    "    k_g = k[0] #La valeur de gauche correspond à la valeur la plus à gauche de la branche\n",
    "    energie_g = energie['1'][15][0] #La valeur de gauche correspond à la valeur la plus à gauche de la branche. On récupère\n",
    "                               #l'énergie de chaque branche pour la 15ème bande.\n",
    "    k_d = k[len(k)-1] #La valeur de droite correspond à la valeur la plus à droite de la branche\n",
    "    energie_d = energie['1'][15][len(energie['1'][15])-1]    \n",
    "    pente = np.abs((energie_d-energie_g)/(k_d-k_g)) #Calcul de la valeur absolue de la pente\n",
    "    if pente >= pente_max:\n",
    "        pente_max  = pente\n",
    "        k_max = [k_g,k_d]\n",
    "        energie_max = [energie_g,energie_d]\n",
    "    if pente <= pente_min:\n",
    "        pente_min = pente\n",
    "        k_min = [k_g,k_d]\n",
    "        bands_min = [energie_g,energie_d]\n",
    "\n",
    "print('La pente maximale de la dernière bande de valence se situe entre les abscisses ' + str(k_max) + \n",
    "      '\\n et entre les ordonnées ' + str(energie_max) + ' et vaut en valeur absolue ' + str(pente_max))\n",
    "print('La pente minimale de la dernière bande de valence se situe entre les abscisses ' + str(k_min) + \n",
    "      '\\n et entre les ordonnées ' + str(energie_min) + ' et vaut en valeur absolue ' + str(pente_min))\n",
    "\n",
    "\n"
   ]
  },
  {
   "cell_type": "markdown",
   "metadata": {},
   "source": [
    "## 2.2. Dans la première bande de conduction"
   ]
  },
  {
   "cell_type": "code",
   "execution_count": 38,
   "metadata": {},
   "outputs": [
    {
     "name": "stdout",
     "output_type": "stream",
     "text": [
      "La pente maximale de la première bande de conduction se situe entre les abscisses [3.622499933438404, 4.120040298075162]\n",
      " et entre les ordonnées [9.2344, 8.3625] et vaut en valeur absolue 1.7524206315130877\n",
      "La pente minimale de la première bande de conduction se situe entre les abscisses [1.3593055393704325, 2.3543862266396727]\n",
      " et entre les ordonnées [0, 0] et vaut en valeur absolue 0.06009562919375505\n"
     ]
    }
   ],
   "source": [
    "# cbm: A list of tuples (distance,energy) marking the cbms. The energies are shifted with respect to the fermi level is the option has been selected.\n",
    "# première bande de conduction : 16\n",
    "\n",
    "# energy: A dict storing bands for spin up and spin down data [{Spin:[band_index][k_point_index]}] as a list (one element for each branch) of energy for each kpoint. \n",
    "#The data is stored by branch to facilitate the plotting. \n",
    "\n",
    "k_g = 0 #Valeur du vecteur d'onde k à gauche\n",
    "energie_g = 0 #Valeur de l'énergie à gauche\n",
    "k_d = 0 #Valeur du vecteur d'onde k à droite\n",
    "energie_d = 0 #Valeur de l'énergie à droite\n",
    "pente_max = 0 #Valeur de la pente maximale\n",
    "pente_min = 100 #valeur de la pente minimale\n",
    "k_max  = [0,0] #Paire de valeurs de vecteur d'onde là où se situe la pente maximale\n",
    "energie_max = [0,0] #Paire de valeur d'énergie où se situe la pente maximale\n",
    "k_min = [0,0] #Paire de valeurs de vecteur d'onde là où se situe la pente minimale\n",
    "energie_min = [0,0] #Paire de valeur d'énergie où se situe la pente minimale\n",
    "\n",
    "#On commence à parcourir les valeurs d'abscisse et d'ordonée possibles. On se concentre sur une branche à la fois.\n",
    "\n",
    "for k, energie in zip(bsp[\"distances\"], bsp[\"energy\"]):\n",
    "    k_g = k[0] #La valeur de gauche correspond à la valeur la plus à gauche de la branche\n",
    "    energie_g = energie['1'][16][0] #La valeur de gauche correspond à la valeur la plus à gauche de la branche. On récupère\n",
    "                               #l'énergie de chaque branche pour la 15ème bande.\n",
    "    k_d = k[len(k)-1] #La valeur de droite correspond à la valeur la plus à droite de la branche\n",
    "    energie_d = energie['1'][16][len(energie['1'][16])-1]    \n",
    "    pente = np.abs((energie_d-energie_g)/(k_d-k_g)) #Calcul de la valeur absolue de la pente\n",
    "    if pente >= pente_max:\n",
    "        pente_max  = pente\n",
    "        k_max = [k_g,k_d]\n",
    "        energie_max = [energie_g,energie_d]\n",
    "    if pente <= pente_min:\n",
    "        pente_min = pente\n",
    "        k_min = [k_g,k_d]\n",
    "        bands_min = [energie_g,energie_d]\n",
    "\n",
    "print('La pente maximale de la première bande de conduction se situe entre les abscisses ' + str(k_max) + \n",
    "      '\\n et entre les ordonnées ' + str(energie_max) + ' et vaut en valeur absolue ' + str(pente_max))\n",
    "print('La pente minimale de la première bande de conduction se situe entre les abscisses ' + str(k_min) + \n",
    "      '\\n et entre les ordonnées ' + str(energie_min) + ' et vaut en valeur absolue ' + str(pente_min))\n",
    "\n"
   ]
  },
  {
   "cell_type": "markdown",
   "metadata": {},
   "source": [
    "# 3. Masse effective\n",
    "En supposant une dispertion parabolique.\n",
    "la masse effective est définie comme : \n",
    "$$m^* = \\frac{\\hbar^2}{\\frac{\\delta^2 E}{\\delta k^2}}$$"
   ]
  },
  {
   "cell_type": "code",
   "execution_count": null,
   "metadata": {},
   "outputs": [],
   "source": []
  },
  {
   "cell_type": "markdown",
   "metadata": {},
   "source": [
    "## 3.1. Au sommet de la dernière bande de valence"
   ]
  },
  {
   "cell_type": "code",
   "execution_count": 44,
   "metadata": {},
   "outputs": [
    {
     "name": "stdout",
     "output_type": "stream",
     "text": [
      "La valeur de la norme est [0. 0. 0.]\n",
      "La masse effective du sommet de la dernière bande de valence est 1.2357366098417937e-31 kg\n"
     ]
    }
   ],
   "source": [
    "h_bar = 6.582119570 * 1e-16 #eVs\n",
    "# vbm: A list of tuples (distance,energy) marking the vbms. \n",
    "#The energies are shifted with respect to the fermi level is the option has been selected. \n",
    "vmb = bstructure.get_vbm()\n",
    "k = vmb.get('kpoint').frac_coords\n",
    "k_n = np.linalg.norm(k)\n",
    "print('La valeur de la norme est ' + str(k_n))\n",
    "#Valeur de la norme de a\n",
    "a = 7.763862276302451\n",
    "\n",
    "#Calcul de la norme de G\n",
    "G = 2*np.pi/a\n",
    "\n",
    "#Récupération de l'énergie associée au VBM\n",
    "E = vmb['energy']\n",
    "\n",
    "#Calcul de la masse effective\n",
    "m_e = h_bar**2*G**2/(2*E)\n",
    "print('La masse effective du sommet de la dernière bande de valence est ' + str(m_e) + ' kg')"
   ]
  },
  {
   "cell_type": "markdown",
   "metadata": {},
   "source": [
    "## 3.2. À la base de la première bande de conduction"
   ]
  },
  {
   "cell_type": "code",
   "execution_count": null,
   "metadata": {},
   "outputs": [],
   "source": [
    "# cbm: A list of tuples (distance,energy) marking the cbms. \n",
    "#The energies are shifted with respect to the fermi level is the option has been selected. \n",
    "cmb = bstructure.get_cbm()\n",
    "k = cmb.get('kpoint').frac_coords\n",
    "k_n = np.linalg.norm(k)\n",
    "\n",
    "print('La valeur de la norme est ' + str(k_n))\n",
    "\n",
    "#Récupération de l'énergie associée au CBM\n",
    "E = cmb['energy']\n",
    "\n",
    "#Calcul de la masse effective\n",
    "m_e = h_bar**2*k_n**2/(2*E)\n",
    "\n",
    "print('La masse effective de la base de la première bande de conduction est ' + str(m_e) + ' kg')\n"
   ]
  },
  {
   "cell_type": "markdown",
   "metadata": {},
   "source": [
    "[1] (2020) Materials project mp-23205, [Online] https://materialsproject.org/materials/mp-23205/\n",
    "[2] (2020) Chapitre 4 : Les électrons dans le cristal, [Online] https://moodleucl.uclouvain.be/pluginfile.php/1274329/mod_resource/content/3/Chap-4.pdf"
   ]
  },
  {
   "cell_type": "code",
   "execution_count": null,
   "metadata": {},
   "outputs": [],
   "source": [
    "# ticks: A dict with the ‘distances’ at which there is a kpoint (the x axis) and the labels (None if no label). \n",
    "    # energy: A dict storing bands for spin up and spin down data [{Spin:[band_index][k_point_index]}] as a list (one element for each branch) of energy for each kpoint. The data is stored by branch to facilitate the plotting. \n",
    "    # vbm: A list of tuples (distance,energy) marking the vbms. The energies are shifted with respect to the fermi level is the option has been selected. \n",
    "    # cbm: A list of tuples (distance,energy) marking the cbms. The energies are shifted with respect to the fermi level is the option has been selected. \n",
    "    # lattice: The reciprocal lattice. \n",
    "    # zero_energy: This is the energy used as zero for the plot. \n",
    "    # is_metal: True if the band structure is metallic (i.e., there is at least one band crossing the fermi level).\n",
    "    \n",
    "    \n",
    "    print(\"trouver la direction dans laquelle la dernière (première) bande de valence (conduction) présente le plus et le moins de dispersion (insérer une figure indiquant la dispersion par des flèches\")\n",
    "    print(\"calculer la masse effective au sommet (base) de la dernière (première) bande de valence (conduction) en supposant une dispersion parabolique.\")\n",
    "    \n",
    "    #Get all ticks and labels for a band structure plot.\n",
    "    #Returns: A dictionary with \n",
    "    # 'distance’: a list of distance at which ticks should be set \n",
    "    # 'label’: a list of label for each of those ticks\n",
    "    bsTricks = bsData.get_ticks()\n",
    "    \n",
    "    #Get a matplotlib object for the bandstructure plot. Blue lines are up spin, red lines are down spin.\n",
    "    bsPlot = bsData.get_plot()"
   ]
  },
  {
   "cell_type": "code",
   "execution_count": null,
   "metadata": {},
   "outputs": [],
   "source": []
  }
 ],
 "metadata": {
  "kernelspec": {
   "display_name": "Python 3",
   "language": "python",
   "name": "python3"
  },
  "language_info": {
   "codemirror_mode": {
    "name": "ipython",
    "version": 3
   },
   "file_extension": ".py",
   "mimetype": "text/x-python",
   "name": "python",
   "nbconvert_exporter": "python",
   "pygments_lexer": "ipython3",
   "version": "3.6.8"
  }
 },
 "nbformat": 4,
 "nbformat_minor": 2
}
