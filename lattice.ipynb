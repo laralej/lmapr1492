{
 "cells": [
  {
   "cell_type": "markdown",
   "metadata": {},
   "source": [
    "# Réseau cristallin du MgI2 \n",
    "Ce code a pour but d'analyser **la structure** du cristal **MgI2** (mp-23205) à partir des données fournies sur site du Materials Project [1].\n",
    "\n",
    "Le fichier exploité ci-dessous est le fichier CIF du MgI2 [2] téléchargé sur le site du Materials Project.\n",
    "\n",
    "La reflexion théorique sous-jacente à ce code est inspirée du cours *LMAPR1492 - Physique des matériaux*, donné par le professeur Gian-Marco RIGNANESE [3].\n"
   ]
  },
  {
   "cell_type": "code",
   "execution_count": 38,
   "metadata": {},
   "outputs": [],
   "source": [
    "from pymatgen.symmetry.analyzer import SpacegroupAnalyzer\n",
    "from pymatgen.ext.matproj import MPRester\n",
    "with MPRester(\"ktopgq8J6C3OwUSa\") as m:\n",
    "    structure = m.get_structure_by_material_id(\"mp-23205\")\n",
    "    "
   ]
  },
  {
   "cell_type": "markdown",
   "metadata": {},
   "source": [
    "Pour caractériser un réseau cristallin, il suffit de caractériser **la maille primitive**. \n",
    "\n",
    "C'est le motif de base qui, en se répetant, permet de reconstituer entièrement le réseau."
   ]
  },
  {
   "cell_type": "code",
   "execution_count": 39,
   "metadata": {},
   "outputs": [],
   "source": [
    "    #Takes a pymatgen.core.structure.Structure object and a symprec. \n",
    "    #Uses spglib to perform various symmetry finding operations.\n",
    "    sa = SpacegroupAnalyzer(structure)\n",
    "\n",
    "    #Gives a structure with a primitive cell according to certain standards\n",
    "    prim = SpacegroupAnalyzer(structure).get_primitive_standard_structure()"
   ]
  },
  {
   "cell_type": "markdown",
   "metadata": {},
   "source": [
    "# 1. Système cristallin\n",
    "\n",
    "Les systèmes cristallins sont des manière d'agencer périodiquement les points du réseau. "
   ]
  },
  {
   "cell_type": "code",
   "execution_count": 40,
   "metadata": {},
   "outputs": [
    {
     "name": "stdout",
     "output_type": "stream",
     "text": [
      "Système cristallin : trigonal\n"
     ]
    }
   ],
   "source": [
    "    #Get the crystal system for the structure, e.g., (triclinic, orthorhombic, cubic, etc.).\n",
    "    systeme = sa.get_crystal_system()\n",
    "    print('Système cristallin : ' + systeme)\n",
    "    "
   ]
  },
  {
   "cell_type": "markdown",
   "metadata": {},
   "source": [
    "Le système trigonal ou rhombohédrique est caractérisé par :\n",
    "* $a = b = c$\n",
    "* $\\alpha = \\beta = \\gamma \\ne 90^\\circ$"
   ]
  },
  {
   "cell_type": "markdown",
   "metadata": {},
   "source": [
    "# 2. Type de maille\n",
    "La **maille (primitive)** ou **cellule (unité)** est une (la plus petite) partie du réseau, *un (le) motif de base*,  qui, en se répettant par translation, permet de la reconstituer.\n"
   ]
  },
  {
   "cell_type": "code",
   "execution_count": 41,
   "metadata": {},
   "outputs": [
    {
     "name": "stdout",
     "output_type": "stream",
     "text": [
      "type de maille : hexagonal\n"
     ]
    }
   ],
   "source": [
    "    #Get the lattice for the structure, e.g., (triclinic, orthorhombic, cubic, etc.).\n",
    "    #This is the same than the crystal system with the exception of the hexagonal/rhombohedral lattice\n",
    "    lattice = sa.get_lattice_type()\n",
    "    print('type de maille : ' + lattice)"
   ]
  },
  {
   "cell_type": "markdown",
   "metadata": {},
   "source": [
    "Dans le cas du MgI2, la maille est primitive: on a donc un système triogonal P (ou hexagonal)"
   ]
  },
  {
   "cell_type": "markdown",
   "metadata": {},
   "source": [
    "Les réseaux de Bravais  sont caractérisé par le système cristallin et le type de maille\n",
    "La maille hexagonale ou trigonale P est caractérisé par :\n",
    "* $a = b \\ne c$\n",
    "* $\\alpha = \\beta = 90^\\circ$\n",
    "* $\\gamma = 120^\\circ$"
   ]
  },
  {
   "cell_type": "markdown",
   "metadata": {},
   "source": [
    "# 3. Groupe ponctuel\n",
    "L'ensemble des opérations ponctuelles de symétrie forment un groupe ponctuel (G) au sens mathématique du terme.\n",
    "\n",
    "Il y a 5 groupes ponctuels avec un système trigonal : \n",
    "$$3,\\overline{3}, 32, 3m, \\overline{3}m$$"
   ]
  },
  {
   "cell_type": "code",
   "execution_count": 45,
   "metadata": {},
   "outputs": [
    {
     "name": "stdout",
     "output_type": "stream",
     "text": [
      "groupe ponctuel : -3m\n"
     ]
    }
   ],
   "source": [
    "    reciproque = sa.get_point_group_symbol()\n",
    "    print(\"groupe ponctuel : \" + reciproque)"
   ]
  },
  {
   "cell_type": "markdown",
   "metadata": {},
   "source": [
    "Étant donné le système trigonal P et le groupe ponctuel obtenu ($\\overline{3}m$), nous pouvons dire que :\n",
    "* L'axe c est d'ordre 3\n",
    "* L'axe c est unique\n",
    "* le système contient un plan miroir le long de l'axe c"
   ]
  },
  {
   "cell_type": "markdown",
   "metadata": {},
   "source": [
    "# 4. Vecteurs de base du réseau direct\n",
    "L'empilement ordonné est appelé réseau ponctuel (ou direct). Pour une structure donnée, le réseau est défini en se donnant un système d'axes et en répetant toutes les positions identiques par rapport à l'origine.\n",
    "\n",
    "Le réseau est défini par des vecteurs de base **a, b, c** indépendants et tels que tout point du réseau direct peut s'écrire :\n",
    "$${\\bf R} = l {\\bf a} + m {\\bf b} + n {\\bf c}$$"
   ]
  },
  {
   "cell_type": "code",
   "execution_count": 43,
   "metadata": {},
   "outputs": [
    {
     "name": "stdout",
     "output_type": "stream",
     "text": [
      "2.104749 -3.645532 0.000000\n",
      "2.104749 3.645532 0.000000\n",
      "0.000000 0.000000 7.731276\n",
      "----------------------------\n",
      "a =4.2094982175295\n",
      "b =4.2094982175295\n",
      "c =7.73127647\n",
      "alpha =90.0\n",
      "beta =90.0\n",
      "gamma =120.00000000000001\n"
     ]
    }
   ],
   "source": [
    "    vector_direct = prim.lattice\n",
    "    print (vector_direct)\n",
    "    print('----------------------------')\n",
    "    print('a =' + str(vector_direct.a))\n",
    "    print('b =' + str(vector_direct.b))\n",
    "    print('c =' + str(vector_direct.c))\n",
    "    print('alpha =' + str(vector_direct.alpha))\n",
    "    print('beta =' + str(vector_direct.beta))\n",
    "    print('gamma =' + str(vector_direct.gamma))\n"
   ]
  },
  {
   "cell_type": "markdown",
   "metadata": {},
   "source": [
    "Les vecteurs de base du réseau direct sont donc :\n",
    "* ${\\bf a} = [2.104749; -3.645532; 0.000000]$\n",
    "* ${\\bf b} = [2.104749; 3.645532; 0.000000]$\n",
    "* ${\\bf c} = [0.000000; 0.000000; 7.731276]$\n",
    "\n",
    "Les paramètres de mailles obtenus confirmes bien les conclusions du point 2 : \n",
    "*  $a = b \\ne c$\n",
    "    * Longueur de a = 4.2094982175295 Å \n",
    "    * Longueur de b = 4.2094982175295 Å \n",
    "    * Longueur de c = 7.73127647 Å\n",
    "* $\\alpha = \\beta = 90^\\circ$, $\\gamma = 120^\\circ$\n",
    "    * $\\alpha = 90.0^\\circ$\n",
    "    * $\\beta = 90.0^\\circ$\n",
    "    * $\\gamma = 120.00000000000001^\\circ$\n"
   ]
  },
  {
   "cell_type": "markdown",
   "metadata": {},
   "source": [
    "# 5. Vecteurs de base du réseau réciproque\n",
    "L'ensemble de tous les vecteurs d'onde **K** qui sont associés à des ondes planes qui ont la même périodicité  que le réseau de départ (réseau direct) forment égalament un réseau appelé **réseau réciproque**.\n",
    "\n",
    "L'ensemble des vecteurs d'onde **K** vérifient la relation :\n",
    "$$e^{i{\\bf K R}}=1$$"
   ]
  },
  {
   "cell_type": "code",
   "execution_count": 44,
   "metadata": {},
   "outputs": [
    {
     "name": "stdout",
     "output_type": "stream",
     "text": [
      "1.492621 -0.861765 0.000000\n",
      "1.492621 0.861765 0.000000\n",
      "0.000000 0.000000 0.812697\n",
      "----------------------------\n",
      "a* =1.7235302361512468\n",
      "b* =1.7235302361512466\n",
      "c* =0.8126970147246055\n",
      "alpha* =90.0\n",
      "beta* =90.0\n",
      "gamma* =59.99999999999999\n"
     ]
    }
   ],
   "source": [
    "    vector_reciprocal = vector_direct.reciprocal_lattice\n",
    "    print (vector_reciprocal)\n",
    "    print('----------------------------')\n",
    "    print('a* =' + str(vector_reciprocal.a))\n",
    "    print('b* =' + str(vector_reciprocal.b))\n",
    "    print('c* =' + str(vector_reciprocal.c))\n",
    "    print('alpha* =' + str(vector_reciprocal.alpha))\n",
    "    print('beta* =' + str(vector_reciprocal.beta))\n",
    "    print('gamma* =' + str(vector_reciprocal.gamma))"
   ]
  },
  {
   "cell_type": "markdown",
   "metadata": {},
   "source": [
    "Les vecteurs de base du réseau direct sont donc :\n",
    "* ${\\bf a^*} = [1.492621; -0.861765; 0.000000]$\n",
    "* ${\\bf b^*} = [1.492621; 0.861765; 0.000000]$\n",
    "* ${\\bf c^*} = [0,000000; 0,000000; 0.812697$\n",
    "\n",
    "Les paramètres de mailles obtenus confirmes encore bien les conclusions faites précédemment: \n",
    "*  $a^* = b^* \\ne c^*$\n",
    "    * Longueur de a* = 1.7235302361512468 Å \n",
    "    * Longueur de b* = 1.7235302361512468 Å \n",
    "    * Longueur de c* = 0.8126970147246055 Å\n",
    "* $\\alpha^* = \\beta^* = 90^\\circ$, $\\gamma^* = \\frac{120^\\circ}{2}$\n",
    "    * $\\alpha^* = 90.0^\\circ$\n",
    "    * $\\beta^* = 90.0^\\circ$\n",
    "    * $\\gamma^* = 59.99999999999999^\\circ$"
   ]
  },
  {
   "cell_type": "markdown",
   "metadata": {},
   "source": [
    "# Bibliographie\n",
    "[1] *Materials project mp-23205*, URL: https://materialsproject.org/materials/mp-23205/\n",
    "\n",
    "[2] *MgI2_mp-23205_symmetrized.cif*, URL: https://github.com/laralej/lmapr1492/blob/master/MgI2_mp-23205_symmetrized.cif\n",
    "\n",
    "[3] *Chapitre 1 : Cristallographie géométrique*, URL: https://moodleucl.uclouvain.be/pluginfile.php/1274322/mod_resource/content/3/Chap-1.pdf "
   ]
  },
  {
   "cell_type": "code",
   "execution_count": null,
   "metadata": {},
   "outputs": [],
   "source": []
  }
 ],
 "metadata": {
  "kernelspec": {
   "display_name": "Python 3",
   "language": "python",
   "name": "python3"
  },
  "language_info": {
   "codemirror_mode": {
    "name": "ipython",
    "version": 3
   },
   "file_extension": ".py",
   "mimetype": "text/x-python",
   "name": "python",
   "nbconvert_exporter": "python",
   "pygments_lexer": "ipython3",
   "version": "3.6.8"
  }
 },
 "nbformat": 4,
 "nbformat_minor": 2
}
