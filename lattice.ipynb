{
 "cells": [
  {
   "cell_type": "code",
   "execution_count": 18,
   "metadata": {},
   "outputs": [
    {
     "name": "stdout",
     "output_type": "stream",
     "text": [
      "systeme cristallin : trigonal\n",
      "type de maille : hexagonal\n",
      "groupe ponctuel : -3m\n",
      "vecteur direct : \n",
      "2.104749 -3.645532 0.000000\n",
      "2.104749 3.645532 0.000000\n",
      "0.000000 0.000000 7.731276\n",
      "vecteur reciproque : \n",
      "1.492621 -0.861765 0.000000\n",
      "1.492621 0.861765 0.000000\n",
      "0.000000 0.000000 0.812697\n"
     ]
    }
   ],
   "source": [
    "from pymatgen.ext.matproj import MPRester\n",
    "from pymatgen.io.cif import CifParser\n",
    "from pymatgen.io.cif import CifWriter\n",
    "from pymatgen.apps.borg.hive import VaspToComputedEntryDrone\n",
    "from pymatgen.apps.borg.queen import BorgQueen\n",
    "from pymatgen.entries.compatibility import MaterialsProjectCompatibility\n",
    "from pymatgen.analysis.phase_diagram import PhaseDiagram, PDPlotter\n",
    "\n",
    "from pymatgen.symmetry.analyzer import SpacegroupAnalyzer\n",
    "with MPRester(\"ktopgq8J6C3OwUSa\") as m:\n",
    "    structure = m.get_structure_by_material_id(\"mp-23205\")\n",
    "    w = CifWriter(structure)\n",
    "    w.write_file('mp23205.cif')\n",
    "    new_s = SpacegroupAnalyzer(structure).get_primitive_standard_structure()\n",
    "    system = SpacegroupAnalyzer(new_s).get_crystal_system()\n",
    "    print(\"systeme cristallin : \" + system)\n",
    "    lattice = SpacegroupAnalyzer(new_s).get_lattice_type()\n",
    "    print(\"type de maille : \" + lattice)\n",
    "    reciproque = SpacegroupAnalyzer(new_s).get_point_group_symbol()\n",
    "    print(\"groupe ponctuel : \" + reciproque)\n",
    "    verctor_direct = new_s.lattice\n",
    "    print(\"vecteur direct : \")\n",
    "    print (verctor_direct)\n",
    "    verctor_reciprocal = verctor_direct.reciprocal_lattice\n",
    "    print(\"vecteur reciproque : \")\n",
    "    print (verctor_reciprocal)"
   ]
  },
  {
   "cell_type": "code",
   "execution_count": null,
   "metadata": {},
   "outputs": [],
   "source": []
  }
 ],
 "metadata": {
  "kernelspec": {
   "display_name": "Python 3",
   "language": "python",
   "name": "python3"
  },
  "language_info": {
   "codemirror_mode": {
    "name": "ipython",
    "version": 3
   },
   "file_extension": ".py",
   "mimetype": "text/x-python",
   "name": "python",
   "nbconvert_exporter": "python",
   "pygments_lexer": "ipython3",
   "version": "3.6.8"
  }
 },
 "nbformat": 4,
 "nbformat_minor": 2
}
